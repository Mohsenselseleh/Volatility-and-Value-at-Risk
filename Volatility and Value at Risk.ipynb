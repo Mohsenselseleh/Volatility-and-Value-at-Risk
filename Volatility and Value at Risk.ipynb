{
  "nbformat": 4,
  "nbformat_minor": 0,
  "metadata": {
    "colab": {
      "provenance": []
    },
    "kernelspec": {
      "name": "python3",
      "display_name": "Python 3"
    },
    "language_info": {
      "name": "python"
    }
  },
  "cells": [
    {
      "cell_type": "code",
      "execution_count": 1,
      "metadata": {
        "colab": {
          "base_uri": "https://localhost:8080/"
        },
        "id": "LNOsXMlpDsAk",
        "outputId": "e13aec1b-2443-4ab4-e13d-ec8efd7a935c"
      },
      "outputs": [
        {
          "output_type": "stream",
          "name": "stdout",
          "text": [
            "Sample length               : 503 days\n",
            "Realised σ (daily)          :  1.6011%\n",
            "Realised σ (annual)         :  25.4173%\n",
            "Parametric 95% 1-day VaR    : $2.06\n",
            "Historical 95% 1-day VaR    : $1.84\n"
          ]
        }
      ],
      "source": [
        "\"\"\"\n",
        "Volatility & Value at Risk (VaR) – quick tour\n",
        "─────────────────────────────────────────────\n",
        "• Volatility (σ) …… standard deviation of returns; annualise by √252.\n",
        "• VaR_α ……………… worst loss not exceeded with probability α.\n",
        "                Here: 1-day, 95 % VaR (α = 0.95).\n",
        "\n",
        "  ▸ Parametric (Normal):   VaR = z_(α) · σ_1d · S_t\n",
        "  ▸ Historical (HS):       VaR = empirical (1-α) percentile of past ₺-returns.\n",
        "\n",
        "Swap the simulated “prices” array with your actual price series and\n",
        "everything else just works.\n",
        "\"\"\"\n",
        "\n",
        "import numpy as np\n",
        "from scipy.stats import norm\n",
        "\n",
        "# -------------------------------------------------\n",
        "# 1.  Simulate a price series  (Geometric Brownian Motion)\n",
        "# -------------------------------------------------\n",
        "S0, r, sigma_true = 100, 0.02, 0.25\n",
        "years, steps_per_year = 2, 252\n",
        "N = years * steps_per_year\n",
        "dt = 1 / steps_per_year\n",
        "\n",
        "rng = np.random.default_rng(seed=0)\n",
        "z   = rng.standard_normal(N)\n",
        "log_ret_path = (r - 0.5 * sigma_true**2) * dt + sigma_true * np.sqrt(dt) * z\n",
        "prices = S0 * np.exp(np.cumsum(log_ret_path))      # length N\n",
        "\n",
        "# -------------------------------------------------\n",
        "# 2.  Daily log-returns\n",
        "# -------------------------------------------------\n",
        "rets = np.diff(np.log(prices))                     # length N-1\n",
        "\n",
        "# -------------------------------------------------\n",
        "# 3.  Realised volatility\n",
        "# -------------------------------------------------\n",
        "vol_1d = rets.std(ddof=1)                          # σ_daily\n",
        "vol_annual = vol_1d * np.sqrt(252)                 # σ_annual\n",
        "\n",
        "# -------------------------------------------------\n",
        "# 4.  1-day 95 % VaR\n",
        "# -------------------------------------------------\n",
        "alpha = 0.95\n",
        "z_alpha = norm.ppf(alpha)                          # ≈ 1.645\n",
        "S_t = prices[-1]\n",
        "\n",
        "# 4a. Parametric (Normal) VaR  – positive number = worst-case loss\n",
        "VaR_param = z_alpha * vol_1d * S_t\n",
        "\n",
        "# 4b. Historical-simulation VaR\n",
        "p_loss = (reit := rets * S_t)                      # $ loss per $ notional\n",
        "VaR_hist = -np.percentile(p_loss,  (1 - alpha) * 100)\n",
        "\n",
        "# -------------------------------------------------\n",
        "# 5.  Report\n",
        "# -------------------------------------------------\n",
        "print(f\"Sample length               : {N-1} days\")\n",
        "print(f\"Realised σ (daily)          : {vol_1d: .4%}\")\n",
        "print(f\"Realised σ (annual)         : {vol_annual: .4%}\")\n",
        "print(f\"Parametric 95% 1-day VaR    : ${VaR_param:,.2f}\")\n",
        "print(f\"Historical 95% 1-day VaR    : ${VaR_hist:,.2f}\")\n"
      ]
    },
    {
      "cell_type": "code",
      "source": [
        "#Volatility gauges how wildly prices swing, while Value at Risk says,\n",
        "#“with 95 % confidence, your worst one-day loss won’t exceed X dollars.”"
      ],
      "metadata": {
        "id": "zxhQc7UnD_Qs"
      },
      "execution_count": null,
      "outputs": []
    }
  ]
}